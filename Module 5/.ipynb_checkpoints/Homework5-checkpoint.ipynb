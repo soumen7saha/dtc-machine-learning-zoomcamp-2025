{
 "cells": [
  {
   "cell_type": "markdown",
   "id": "a146541b",
   "metadata": {},
   "source": [
    "# Homework 5"
   ]
  },
  {
   "cell_type": "markdown",
   "id": "32fd3af1",
   "metadata": {},
   "source": [
    "We recommend using python 3.12 or 3.13 in this homework.\n",
    "\n",
    "In this homework, we're going to continue working with the lead scoring dataset. You don't need the dataset: we will provide the model for you."
   ]
  },
  {
   "cell_type": "code",
   "execution_count": null,
   "id": "e4acbd66",
   "metadata": {},
   "outputs": [],
   "source": []
  },
  {
   "cell_type": "code",
   "execution_count": null,
   "id": "9fe965cf",
   "metadata": {},
   "outputs": [],
   "source": []
  },
  {
   "cell_type": "markdown",
   "id": "3eee20d4",
   "metadata": {},
   "source": [
    "## Question 1\n",
    "\n",
    "- Install uv\n",
    "- What's the version of uv you installed?\n",
    "- Use --version to find out\n",
    "\n",
    "### Initialize an empty uv project\n",
    "You should create an empty folder for homework and do it there."
   ]
  },
  {
   "cell_type": "code",
   "execution_count": null,
   "id": "bc30f56f",
   "metadata": {},
   "outputs": [],
   "source": []
  },
  {
   "cell_type": "code",
   "execution_count": null,
   "id": "36be657e",
   "metadata": {},
   "outputs": [],
   "source": []
  },
  {
   "cell_type": "markdown",
   "id": "ea6468f2",
   "metadata": {},
   "source": [
    "## Question 2\n",
    "\n",
    "- Use uv to install Scikit-Learn version 1.6.1\n",
    "- What's the first hash for Scikit-Learn you get in the lock file?\n",
    "- Include the entire string starting with sha256:, don't include quotes\n",
    "\n",
    "### Models\n",
    "We have prepared a pipeline with a dictionary vectorizer and a model.\n",
    "\n",
    "It was trained (roughly) using this code:\n",
    "\n",
    "    categorical = ['lead_source']\n",
    "    numeric = ['number_of_courses_viewed', 'annual_income']\n",
    "\n",
    "    df[categorical] = df[categorical].fillna('NA')\n",
    "    df[numeric] = df[numeric].fillna(0)\n",
    "\n",
    "    train_dict = df[categorical + numeric].to_dict(orient='records')\n",
    "\n",
    "    pipeline = make_pipeline(\n",
    "        DictVectorizer(),\n",
    "        LogisticRegression(solver='liblinear')\n",
    "    )\n",
    "\n",
    "    pipeline.fit(train_dict, y_train)\n",
    "\n",
    "Note: You don't need to train the model. This code is just for your reference.\n",
    "\n",
    "And then saved with Pickle. Download it here.\n",
    "\n",
    "With wget:\n",
    "\n",
    "    wget https://github.com/DataTalksClub/machine-learning-zoomcamp/raw/refs/heads/master/cohorts/2025/05-deployment/pipeline_v1.bin"
   ]
  },
  {
   "cell_type": "code",
   "execution_count": null,
   "id": "1a44dca9",
   "metadata": {},
   "outputs": [],
   "source": []
  },
  {
   "cell_type": "code",
   "execution_count": null,
   "id": "ae762461",
   "metadata": {},
   "outputs": [],
   "source": []
  },
  {
   "cell_type": "code",
   "execution_count": null,
   "id": "0f851225",
   "metadata": {},
   "outputs": [],
   "source": []
  },
  {
   "cell_type": "markdown",
   "id": "24af5192",
   "metadata": {},
   "source": [
    "## Question 3\n",
    "Let's use the model!\n",
    "\n",
    "- Write a script for loading the pipeline with pickle\n",
    "- Score this record:\n",
    "    \n",
    "    {\n",
    "        \"lead_source\": \"paid_ads\",\n",
    "        \"number_of_courses_viewed\": 2,\n",
    "        \"annual_income\": 79276.0\n",
    "    }\n",
    "\n",
    "What's the probability that this lead will convert?\n",
    "\n",
    "- 0.333\n",
    "- 0.533\n",
    "- 0.733\n",
    "- 0.933\n",
    "\n",
    "If you're getting errors when unpickling the files, check their checksum:\n",
    "\n",
    "    $ md5sum pipeline_v1.bin \n",
    "    7d17d2e4dfbaf1e408e1a62e6e880d49 *pipeline_v1.bin"
   ]
  },
  {
   "cell_type": "code",
   "execution_count": null,
   "id": "40acd10d",
   "metadata": {},
   "outputs": [],
   "source": []
  },
  {
   "cell_type": "code",
   "execution_count": null,
   "id": "e9708fd2",
   "metadata": {},
   "outputs": [],
   "source": []
  },
  {
   "cell_type": "code",
   "execution_count": null,
   "id": "9f3ad5d3",
   "metadata": {},
   "outputs": [],
   "source": []
  },
  {
   "cell_type": "markdown",
   "id": "81d67f70",
   "metadata": {},
   "source": [
    "## Question 4\n",
    "\n",
    "Now let's serve this model as a web service\n",
    "\n",
    "Install FastAPI\n",
    "Write FastAPI code for serving the model\n",
    "Now score this client using requests:\n",
    "\n",
    "url = \"YOUR_URL\"\n",
    "\n",
    "client = {\n",
    "    \"lead_source\": \"organic_search\",\n",
    "    \"number_of_courses_viewed\": 4,\n",
    "    \"annual_income\": 80304.0\n",
    "}\n",
    "\n",
    "requests.post(url, json=client).json()\n",
    "\n",
    "What's the probability that this client will get a subscription?\n",
    "\n",
    "- 0.334\n",
    "- 0.534\n",
    "- 0.734\n",
    "- 0.934\n",
    "\n",
    "### Docker\n",
    "Install Docker. We will use it for the next two questions.\n",
    "\n",
    "For these questions, we prepared a base image: agrigorev/zoomcamp-model:2025. You'll need to use it (see Question 5 for an example).\n",
    "\n",
    "This image is based on 3.13.5-slim-bookworm and has a pipeline with logistic regression (a different one) as well a dictionary vectorizer inside.\n",
    "\n",
    "This is how the Dockerfile for this image looks like:\n",
    "\n",
    "FROM python:3.13.5-slim-bookworm\n",
    "WORKDIR /code\n",
    "COPY pipeline_v2.bin .\n",
    "We already built it and then pushed it to agrigorev/zoomcamp-model:2025.\n",
    "\n",
    "Note: You don't need to build this docker image, it's just for your reference.\n"
   ]
  },
  {
   "cell_type": "code",
   "execution_count": null,
   "id": "61fa3fef",
   "metadata": {},
   "outputs": [],
   "source": []
  },
  {
   "cell_type": "code",
   "execution_count": null,
   "id": "4c2b6d08",
   "metadata": {},
   "outputs": [],
   "source": []
  },
  {
   "cell_type": "code",
   "execution_count": null,
   "id": "6d3b2eba",
   "metadata": {},
   "outputs": [],
   "source": []
  },
  {
   "cell_type": "markdown",
   "id": "5d32644a",
   "metadata": {},
   "source": [
    "## Question 5\n",
    "\n",
    "Download the base image agrigorev/zoomcamp-model:2025. You can easily make it by using docker pull command.\n",
    "\n",
    "So what's the size of this base image?\n",
    "\n",
    "- 45 MB\n",
    "- 121 MB\n",
    "- 245 MB\n",
    "- 330 MB\n",
    "\n",
    "You can get this information when running docker images - it'll be in the \"SIZE\" column.\n",
    "\n",
    "### Dockerfile\n",
    "\n",
    "Now create your own Dockerfile based on the image we prepared.\n",
    "\n",
    "It should start like that:\n",
    "\n",
    "FROM agrigorev/zoomcamp-model:2025\n",
    "#add your stuff here\n",
    "Now complete it:\n",
    "\n",
    "Install all the dependencies from pyproject.toml\n",
    "Copy your FastAPI script\n",
    "Run it with uvicorn\n",
    "After that, you can build your docker image.\n"
   ]
  },
  {
   "cell_type": "code",
   "execution_count": null,
   "id": "c269ceac",
   "metadata": {},
   "outputs": [],
   "source": []
  },
  {
   "cell_type": "code",
   "execution_count": null,
   "id": "726c5150",
   "metadata": {},
   "outputs": [],
   "source": []
  },
  {
   "cell_type": "markdown",
   "id": "49e15b8a",
   "metadata": {},
   "source": [
    "## Question 6\n",
    "Let's run your docker container!\n",
    "\n",
    "After running it, score this client once again:\n",
    "\n",
    "url = \"YOUR_URL\"\n",
    "\n",
    "client = {\n",
    "    \"lead_source\": \"organic_search\",\n",
    "    \"number_of_courses_viewed\": 4,\n",
    "    \"annual_income\": 80304.0\n",
    "}\n",
    "\n",
    "requests.post(url, json=client).json()\n",
    "\n",
    "What's the probability that this lead will convert?\n",
    "\n",
    "- 0.39\n",
    "- 0.59\n",
    "- 0.79\n",
    "- 0.99\n"
   ]
  },
  {
   "cell_type": "code",
   "execution_count": null,
   "id": "ee22055c",
   "metadata": {},
   "outputs": [],
   "source": []
  }
 ],
 "metadata": {
  "kernelspec": {
   "display_name": "Python 3 (ipykernel)",
   "language": "python",
   "name": "python3"
  },
  "language_info": {
   "codemirror_mode": {
    "name": "ipython",
    "version": 3
   },
   "file_extension": ".py",
   "mimetype": "text/x-python",
   "name": "python",
   "nbconvert_exporter": "python",
   "pygments_lexer": "ipython3",
   "version": "3.10.10"
  }
 },
 "nbformat": 4,
 "nbformat_minor": 5
}
